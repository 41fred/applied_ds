{
 "cells": [
  {
   "cell_type": "markdown",
   "metadata": {},
   "source": [
    "# Danhui's project (Spring 2019)"
   ]
  },
  {
   "cell_type": "markdown",
   "metadata": {},
   "source": [
    "This project is done partly to support the competitor & market research for REDOX. REDOX is a lab services company that uses novel imaging techniques to provide scientists in pharmaceutical companies with unprecedented subcellular-level metabolic information to help understand drug-cellular interactions and thereby aiding the drug discovery and development process and reducing wasted resources. Through analyzing three optical biomarkers - cellular redox state, bound NADH fraction, and mitochondrial clustering - we are able to provide information on the metabolic activity happening within the cells. Currently we are capable of providing insights into specific metabolic pathways, including glycolysis, glutaminolysis, mitochondrial uncoupling, fatty acid oxidation, and fatty acid synthesis, with single-cell resolution."
   ]
  },
  {
   "cell_type": "markdown",
   "metadata": {},
   "source": [
    "Though our previous understanding was that the pharmaceutical industry currently only measures the level of metabolites in cells or bulk metrics and does not measure cell-differentiated metabolic activity, our recent research and interviews reveal that some companies are looking into specific metabolic pathways which overlap with our service offerings. As the field of measuring metabolic activity in drug research is still in its nascent stage, specific disease models that work well with our product are not yet validated. Therefore, through looking into applications of our competitor’s products (published in scientific journals), our team may find drug research of specific disease types/cell lines that may serve our beachhead market. The dataset used in this project is found on Agilent Cell Reference Database:\n",
    "https://www.agilent.com/cell-reference-database/"
   ]
  },
  {
   "cell_type": "markdown",
   "metadata": {},
   "source": [
    "### Why is looking into cellular metabolism-related research important?\n",
    "* Use case 1: The MYC oncogene is frequently mutated and overexpressed in human renal cell carcinoma (RCC). Research shows that MYC-induced RCC up-regulated the glutaminolytic pathway instead of the glycolytic pathway. The pharmacologic inhibition of glutamine metabolism with bis-2-(5-phenylacetamido-1,2,4-thiadiazol-2-yl) ethyl sulfide impeded MYC-mediated tumor progression. Thus, the inhibition of glutamine metabolism is a potential therapeutic approach for the treatment of this disease. (Shroff et al. PNAS 2015)\n",
    "* Use case 2: Insights into tumor cellular metabolism upon administration of therapeutics can serve as an early predictor of *in vivo* tumor drug response. In the current standard of care, patients with innate drug resistance are not identified *a priori* and drug effectiveness is determined after weeks of treatment from tumor size measurements using mammography, MRI, or ultrasound. Research showed that observations of cellular metabolic changes can predict tumor drug response much earlier than the traditional imaging methods, at about 72 hours after administration. (Walsh et al. 2014)\n",
    "\n",
    "Learning about more use cases like the aforementioned research areas can help REDOX better navigate the current research landscape and gain an in-depth understanding of current methods used to measure cellular metabolism. With this knowledge, REDOX can hope to best position itself in the market with its differentiating features.\n",
    "\n"
   ]
  },
  {
   "cell_type": "code",
   "execution_count": 406,
   "metadata": {},
   "outputs": [],
   "source": [
    "import pandas as pd\n",
    "import numpy as np\n",
    "import re\n",
    "\n",
    "# Generate Word Cloud\n",
    "from wordcloud import WordCloud, STOPWORDS\n",
    "import matplotlib.pyplot as plt"
   ]
  },
  {
   "cell_type": "code",
   "execution_count": 407,
   "metadata": {},
   "outputs": [
    {
     "data": {
      "text/html": [
       "<div>\n",
       "<style scoped>\n",
       "    .dataframe tbody tr th:only-of-type {\n",
       "        vertical-align: middle;\n",
       "    }\n",
       "\n",
       "    .dataframe tbody tr th {\n",
       "        vertical-align: top;\n",
       "    }\n",
       "\n",
       "    .dataframe thead th {\n",
       "        text-align: right;\n",
       "    }\n",
       "</style>\n",
       "<table border=\"1\" class=\"dataframe\">\n",
       "  <thead>\n",
       "    <tr style=\"text-align: right;\">\n",
       "      <th></th>\n",
       "      <th>Title</th>\n",
       "      <th>Authors</th>\n",
       "      <th>Journal</th>\n",
       "      <th>Publication date</th>\n",
       "      <th>Research area</th>\n",
       "      <th>Cell Line</th>\n",
       "      <th>Cell Type</th>\n",
       "      <th>Species</th>\n",
       "      <th>Analyzer</th>\n",
       "      <th>XF Assay</th>\n",
       "      <th>Plate Reader Assay</th>\n",
       "      <th>Seeding density</th>\n",
       "      <th>Plate coating</th>\n",
       "    </tr>\n",
       "  </thead>\n",
       "  <tbody>\n",
       "    <tr>\n",
       "      <th>0</th>\n",
       "      <td>_-1-Antitrypsin (AAT)-modified donor cells sup...</td>\n",
       "      <td>Marcondes AM, Karoopongse E, Lesnikova M, Marg...</td>\n",
       "      <td>Blood</td>\n",
       "      <td>Oct 1 2014 12:00 AM</td>\n",
       "      <td>Immunology Research</td>\n",
       "      <td>T-cells</td>\n",
       "      <td>T-cells</td>\n",
       "      <td>Mouse</td>\n",
       "      <td>24</td>\n",
       "      <td>Cell Mitochondrial Stress Test</td>\n",
       "      <td>NaN</td>\n",
       "      <td>8.0x10^5 cells/well</td>\n",
       "      <td>Not Specified</td>\n",
       "    </tr>\n",
       "    <tr>\n",
       "      <th>1</th>\n",
       "      <td>_-1-Antitrypsin (AAT)-modified donor cells sup...</td>\n",
       "      <td>Marcondes AM, Karoopongse E, Lesnikova M, Marg...</td>\n",
       "      <td>Blood</td>\n",
       "      <td>Oct 1 2014 12:00 AM</td>\n",
       "      <td>Immunology Research</td>\n",
       "      <td>Natural Killer (NK) cells</td>\n",
       "      <td>Immune Cells</td>\n",
       "      <td>Mouse</td>\n",
       "      <td>24</td>\n",
       "      <td>Cell Mitochondrial Stress Test</td>\n",
       "      <td>NaN</td>\n",
       "      <td>8.0x10^5 cells/well</td>\n",
       "      <td>Not Specified</td>\n",
       "    </tr>\n",
       "    <tr>\n",
       "      <th>2</th>\n",
       "      <td>_-enolase regulates the malignant phenotype of...</td>\n",
       "      <td>J. Dai, Q. Zhou, J. Chen, M. L. Rexius-Hall, J...</td>\n",
       "      <td>Nat Commun</td>\n",
       "      <td>Sep 21 2018 12:00 AM</td>\n",
       "      <td>Cell Physiology Research</td>\n",
       "      <td>Pulmonary Artery Smooth Muscle Cells (PASMC)</td>\n",
       "      <td>Pulmonary Artery Cells</td>\n",
       "      <td>Human</td>\n",
       "      <td>24</td>\n",
       "      <td>Cell Mitochondrial Stress Test</td>\n",
       "      <td>NaN</td>\n",
       "      <td>3.0 x10^4 cells/well</td>\n",
       "      <td>Not Specified</td>\n",
       "    </tr>\n",
       "    <tr>\n",
       "      <th>3</th>\n",
       "      <td>_-enolase regulates the malignant phenotype of...</td>\n",
       "      <td>J. Dai, Q. Zhou, J. Chen, M. L. Rexius-Hall, J...</td>\n",
       "      <td>Nat Commun</td>\n",
       "      <td>Sep 21 2018 12:00 AM</td>\n",
       "      <td>Cell Physiology Research</td>\n",
       "      <td>Pulmonary Artery Smooth Muscle Cells (PASMC)</td>\n",
       "      <td>Pulmonary Artery Cells</td>\n",
       "      <td>Human</td>\n",
       "      <td>24</td>\n",
       "      <td>Glycolysis Stress Test</td>\n",
       "      <td>NaN</td>\n",
       "      <td>3.0 x10^4 cells/well</td>\n",
       "      <td>Not Specified</td>\n",
       "    </tr>\n",
       "    <tr>\n",
       "      <th>4</th>\n",
       "      <td>_-ketoglutarate orchestrates macrophage activa...</td>\n",
       "      <td>P. S. Liu, H. Wang, X. Li, T. Chao, T. Teav, S...</td>\n",
       "      <td>Nat Immunol</td>\n",
       "      <td>Sep 1 2017 12:00 AM</td>\n",
       "      <td>Immunology Research</td>\n",
       "      <td>Bone Marrow-Derived Macrophages (BMDM)</td>\n",
       "      <td>Immune Cells</td>\n",
       "      <td>Mouse</td>\n",
       "      <td>96</td>\n",
       "      <td>Cell Mitochondrial Stress Test</td>\n",
       "      <td>NaN</td>\n",
       "      <td>1.0 x10^5 cells/well</td>\n",
       "      <td>Not Specified</td>\n",
       "    </tr>\n",
       "  </tbody>\n",
       "</table>\n",
       "</div>"
      ],
      "text/plain": [
       "                                               Title  \\\n",
       "0  _-1-Antitrypsin (AAT)-modified donor cells sup...   \n",
       "1  _-1-Antitrypsin (AAT)-modified donor cells sup...   \n",
       "2  _-enolase regulates the malignant phenotype of...   \n",
       "3  _-enolase regulates the malignant phenotype of...   \n",
       "4  _-ketoglutarate orchestrates macrophage activa...   \n",
       "\n",
       "                                             Authors      Journal  \\\n",
       "0  Marcondes AM, Karoopongse E, Lesnikova M, Marg...        Blood   \n",
       "1  Marcondes AM, Karoopongse E, Lesnikova M, Marg...        Blood   \n",
       "2  J. Dai, Q. Zhou, J. Chen, M. L. Rexius-Hall, J...   Nat Commun   \n",
       "3  J. Dai, Q. Zhou, J. Chen, M. L. Rexius-Hall, J...   Nat Commun   \n",
       "4  P. S. Liu, H. Wang, X. Li, T. Chao, T. Teav, S...  Nat Immunol   \n",
       "\n",
       "       Publication date             Research area  \\\n",
       "0   Oct 1 2014 12:00 AM       Immunology Research   \n",
       "1   Oct 1 2014 12:00 AM       Immunology Research   \n",
       "2  Sep 21 2018 12:00 AM  Cell Physiology Research   \n",
       "3  Sep 21 2018 12:00 AM  Cell Physiology Research   \n",
       "4   Sep 1 2017 12:00 AM       Immunology Research   \n",
       "\n",
       "                                      Cell Line               Cell Type  \\\n",
       "0                                       T-cells                 T-cells   \n",
       "1                     Natural Killer (NK) cells            Immune Cells   \n",
       "2  Pulmonary Artery Smooth Muscle Cells (PASMC)  Pulmonary Artery Cells   \n",
       "3  Pulmonary Artery Smooth Muscle Cells (PASMC)  Pulmonary Artery Cells   \n",
       "4        Bone Marrow-Derived Macrophages (BMDM)            Immune Cells   \n",
       "\n",
       "  Species Analyzer                        XF Assay Plate Reader Assay  \\\n",
       "0   Mouse       24  Cell Mitochondrial Stress Test                NaN   \n",
       "1   Mouse       24  Cell Mitochondrial Stress Test                NaN   \n",
       "2   Human       24  Cell Mitochondrial Stress Test                NaN   \n",
       "3   Human       24          Glycolysis Stress Test                NaN   \n",
       "4   Mouse       96  Cell Mitochondrial Stress Test                NaN   \n",
       "\n",
       "        Seeding density  Plate coating  \n",
       "0   8.0x10^5 cells/well  Not Specified  \n",
       "1   8.0x10^5 cells/well  Not Specified  \n",
       "2  3.0 x10^4 cells/well  Not Specified  \n",
       "3  3.0 x10^4 cells/well  Not Specified  \n",
       "4  1.0 x10^5 cells/well  Not Specified  "
      ]
     },
     "execution_count": 407,
     "metadata": {},
     "output_type": "execute_result"
    }
   ],
   "source": [
    "data = pd.read_csv('./CellLineInput.csv')\n",
    "data.head()"
   ]
  },
  {
   "cell_type": "code",
   "execution_count": 408,
   "metadata": {},
   "outputs": [
    {
     "name": "stdout",
     "output_type": "stream",
     "text": [
      "Number of rows in the table:  9634\n"
     ]
    }
   ],
   "source": [
    "rows = len(data.index)\n",
    "print ('Number of rows in the table: ', rows)"
   ]
  },
  {
   "cell_type": "code",
   "execution_count": 409,
   "metadata": {},
   "outputs": [
    {
     "data": {
      "text/plain": [
       "Text(0, 0.5, 'Percent Missing')"
      ]
     },
     "execution_count": 409,
     "metadata": {},
     "output_type": "execute_result"
    },
    {
     "data": {
      "image/png": "[encoded data removed]",
      "text/plain": [
       "<Figure size 432x288 with 1 Axes>"
      ]
     },
     "metadata": {
      "needs_background": "light"
     },
     "output_type": "display_data"
    }
   ],
   "source": [
    "((data.isnull().sum()/len(data)) * 100).plot(kind='bar')\n",
    "plt.title('Percent Missing by Variable')\n",
    "# Add x- and y- axes labels\n",
    "plt.xlabel(\"Variables\")\n",
    "plt.ylabel(\"Percent Missing\")"
   ]
  },
  {
   "cell_type": "markdown",
   "metadata": {},
   "source": [
    "Drop column that has mostly null values, then drop rows that have null values."
   ]
  },
  {
   "cell_type": "code",
   "execution_count": 410,
   "metadata": {},
   "outputs": [
    {
     "data": {
      "text/html": [
       "<div>\n",
       "<style scoped>\n",
       "    .dataframe tbody tr th:only-of-type {\n",
       "        vertical-align: middle;\n",
       "    }\n",
       "\n",
       "    .dataframe tbody tr th {\n",
       "        vertical-align: top;\n",
       "    }\n",
       "\n",
       "    .dataframe thead th {\n",
       "        text-align: right;\n",
       "    }\n",
       "</style>\n",
       "<table border=\"1\" class=\"dataframe\">\n",
       "  <thead>\n",
       "    <tr style=\"text-align: right;\">\n",
       "      <th></th>\n",
       "      <th>Title</th>\n",
       "      <th>Authors</th>\n",
       "      <th>Journal</th>\n",
       "      <th>Publication date</th>\n",
       "      <th>Research area</th>\n",
       "      <th>Cell Line</th>\n",
       "      <th>Cell Type</th>\n",
       "      <th>Species</th>\n",
       "      <th>Analyzer</th>\n",
       "      <th>XF Assay</th>\n",
       "      <th>Seeding density</th>\n",
       "    </tr>\n",
       "  </thead>\n",
       "  <tbody>\n",
       "    <tr>\n",
       "      <th>0</th>\n",
       "      <td>_-1-Antitrypsin (AAT)-modified donor cells sup...</td>\n",
       "      <td>Marcondes AM, Karoopongse E, Lesnikova M, Marg...</td>\n",
       "      <td>Blood</td>\n",
       "      <td>Oct 1 2014 12:00 AM</td>\n",
       "      <td>Immunology Research</td>\n",
       "      <td>T-cells</td>\n",
       "      <td>T-cells</td>\n",
       "      <td>Mouse</td>\n",
       "      <td>24</td>\n",
       "      <td>Cell Mitochondrial Stress Test</td>\n",
       "      <td>8.0x10^5 cells/well</td>\n",
       "    </tr>\n",
       "    <tr>\n",
       "      <th>1</th>\n",
       "      <td>_-1-Antitrypsin (AAT)-modified donor cells sup...</td>\n",
       "      <td>Marcondes AM, Karoopongse E, Lesnikova M, Marg...</td>\n",
       "      <td>Blood</td>\n",
       "      <td>Oct 1 2014 12:00 AM</td>\n",
       "      <td>Immunology Research</td>\n",
       "      <td>Natural Killer (NK) cells</td>\n",
       "      <td>Immune Cells</td>\n",
       "      <td>Mouse</td>\n",
       "      <td>24</td>\n",
       "      <td>Cell Mitochondrial Stress Test</td>\n",
       "      <td>8.0x10^5 cells/well</td>\n",
       "    </tr>\n",
       "    <tr>\n",
       "      <th>2</th>\n",
       "      <td>_-enolase regulates the malignant phenotype of...</td>\n",
       "      <td>J. Dai, Q. Zhou, J. Chen, M. L. Rexius-Hall, J...</td>\n",
       "      <td>Nat Commun</td>\n",
       "      <td>Sep 21 2018 12:00 AM</td>\n",
       "      <td>Cell Physiology Research</td>\n",
       "      <td>Pulmonary Artery Smooth Muscle Cells (PASMC)</td>\n",
       "      <td>Pulmonary Artery Cells</td>\n",
       "      <td>Human</td>\n",
       "      <td>24</td>\n",
       "      <td>Cell Mitochondrial Stress Test</td>\n",
       "      <td>3.0 x10^4 cells/well</td>\n",
       "    </tr>\n",
       "    <tr>\n",
       "      <th>3</th>\n",
       "      <td>_-enolase regulates the malignant phenotype of...</td>\n",
       "      <td>J. Dai, Q. Zhou, J. Chen, M. L. Rexius-Hall, J...</td>\n",
       "      <td>Nat Commun</td>\n",
       "      <td>Sep 21 2018 12:00 AM</td>\n",
       "      <td>Cell Physiology Research</td>\n",
       "      <td>Pulmonary Artery Smooth Muscle Cells (PASMC)</td>\n",
       "      <td>Pulmonary Artery Cells</td>\n",
       "      <td>Human</td>\n",
       "      <td>24</td>\n",
       "      <td>Glycolysis Stress Test</td>\n",
       "      <td>3.0 x10^4 cells/well</td>\n",
       "    </tr>\n",
       "    <tr>\n",
       "      <th>4</th>\n",
       "      <td>_-ketoglutarate orchestrates macrophage activa...</td>\n",
       "      <td>P. S. Liu, H. Wang, X. Li, T. Chao, T. Teav, S...</td>\n",
       "      <td>Nat Immunol</td>\n",
       "      <td>Sep 1 2017 12:00 AM</td>\n",
       "      <td>Immunology Research</td>\n",
       "      <td>Bone Marrow-Derived Macrophages (BMDM)</td>\n",
       "      <td>Immune Cells</td>\n",
       "      <td>Mouse</td>\n",
       "      <td>96</td>\n",
       "      <td>Cell Mitochondrial Stress Test</td>\n",
       "      <td>1.0 x10^5 cells/well</td>\n",
       "    </tr>\n",
       "  </tbody>\n",
       "</table>\n",
       "</div>"
      ],
      "text/plain": [
       "                                               Title  \\\n",
       "0  _-1-Antitrypsin (AAT)-modified donor cells sup...   \n",
       "1  _-1-Antitrypsin (AAT)-modified donor cells sup...   \n",
       "2  _-enolase regulates the malignant phenotype of...   \n",
       "3  _-enolase regulates the malignant phenotype of...   \n",
       "4  _-ketoglutarate orchestrates macrophage activa...   \n",
       "\n",
       "                                             Authors      Journal  \\\n",
       "0  Marcondes AM, Karoopongse E, Lesnikova M, Marg...        Blood   \n",
       "1  Marcondes AM, Karoopongse E, Lesnikova M, Marg...        Blood   \n",
       "2  J. Dai, Q. Zhou, J. Chen, M. L. Rexius-Hall, J...   Nat Commun   \n",
       "3  J. Dai, Q. Zhou, J. Chen, M. L. Rexius-Hall, J...   Nat Commun   \n",
       "4  P. S. Liu, H. Wang, X. Li, T. Chao, T. Teav, S...  Nat Immunol   \n",
       "\n",
       "       Publication date             Research area  \\\n",
       "0   Oct 1 2014 12:00 AM       Immunology Research   \n",
       "1   Oct 1 2014 12:00 AM       Immunology Research   \n",
       "2  Sep 21 2018 12:00 AM  Cell Physiology Research   \n",
       "3  Sep 21 2018 12:00 AM  Cell Physiology Research   \n",
       "4   Sep 1 2017 12:00 AM       Immunology Research   \n",
       "\n",
       "                                      Cell Line               Cell Type  \\\n",
       "0                                       T-cells                 T-cells   \n",
       "1                     Natural Killer (NK) cells            Immune Cells   \n",
       "2  Pulmonary Artery Smooth Muscle Cells (PASMC)  Pulmonary Artery Cells   \n",
       "3  Pulmonary Artery Smooth Muscle Cells (PASMC)  Pulmonary Artery Cells   \n",
       "4        Bone Marrow-Derived Macrophages (BMDM)            Immune Cells   \n",
       "\n",
       "  Species Analyzer                        XF Assay       Seeding density  \n",
       "0   Mouse       24  Cell Mitochondrial Stress Test   8.0x10^5 cells/well  \n",
       "1   Mouse       24  Cell Mitochondrial Stress Test   8.0x10^5 cells/well  \n",
       "2   Human       24  Cell Mitochondrial Stress Test  3.0 x10^4 cells/well  \n",
       "3   Human       24          Glycolysis Stress Test  3.0 x10^4 cells/well  \n",
       "4   Mouse       96  Cell Mitochondrial Stress Test  1.0 x10^5 cells/well  "
      ]
     },
     "execution_count": 410,
     "metadata": {},
     "output_type": "execute_result"
    }
   ],
   "source": [
    "data = data.drop(columns='Plate Reader Assay')\n",
    "data = data.drop(columns='Plate coating')\n",
    "data.head()"
   ]
  },
  {
   "cell_type": "code",
   "execution_count": 411,
   "metadata": {},
   "outputs": [
    {
     "name": "stdout",
     "output_type": "stream",
     "text": [
      "<class 'pandas.core.frame.DataFrame'>\n",
      "RangeIndex: 9083 entries, 0 to 9082\n",
      "Data columns (total 11 columns):\n",
      "Title               9083 non-null object\n",
      "Authors             9083 non-null object\n",
      "Journal             9083 non-null object\n",
      "Publication date    9083 non-null object\n",
      "Research area       9083 non-null object\n",
      "Cell Line           9083 non-null object\n",
      "Cell Type           9083 non-null object\n",
      "Species             9083 non-null object\n",
      "Analyzer            9083 non-null object\n",
      "XF Assay            9083 non-null object\n",
      "Seeding density     9083 non-null object\n",
      "dtypes: object(11)\n",
      "memory usage: 780.6+ KB\n"
     ]
    }
   ],
   "source": [
    "# dropping null value columns to avoid errors \n",
    "data.dropna(inplace = True) \n",
    "data = data.reset_index(drop=True)\n",
    "data.info()"
   ]
  },
  {
   "cell_type": "markdown",
   "metadata": {},
   "source": [
    "## Data Cleaning & Visualization"
   ]
  },
  {
   "cell_type": "markdown",
   "metadata": {},
   "source": [
    "### 1. Research area"
   ]
  },
  {
   "cell_type": "code",
   "execution_count": 412,
   "metadata": {
    "scrolled": false
   },
   "outputs": [
    {
     "data": {
      "image/png": "[encoded data removed]",
      "text/plain": [
       "<Figure size 720x576 with 1 Axes>"
      ]
     },
     "metadata": {
      "needs_background": "light"
     },
     "output_type": "display_data"
    }
   ],
   "source": [
    "# Remove research areas that have a low value count\n",
    "# Reference: https://stackoverflow.com/questions/32511061/remove-low-frequency-values-from-pandas-dataframe\n",
    "threshold = 60 # Anything that occurs less than this will be removed.\n",
    "value_counts = data['Research area'].value_counts() \n",
    "to_remove = value_counts[value_counts <= threshold].index\n",
    "data['Research area'].replace(to_remove, np.nan, inplace=True)\n",
    "\n",
    "# Remove research area that is not significant for our purposes\n",
    "data['Research area'].replace(\"Techniques & Methods\", np.nan, inplace=True)\n",
    "data['Research area'].replace(\"Modulation\", np.nan, inplace=True)\n",
    "data['Research area'].replace(\"Model Organisms\", np.nan, inplace=True)\n",
    "data['Research area'].replace(\"Cell Metabolism in Technology\", np.nan, inplace=True)\n",
    "\n",
    "# Plot horizontal bar graph in descending order of the object value counts\n",
    "plot1 = data['Research area'].value_counts().plot(kind='barh', figsize=(10,8), title='Research area and number of published studies')\n",
    "plot1.invert_yaxis()\n",
    "\n",
    "# Add title, x- and y- axes labels\n",
    "plot1.set_xlabel(\"Number of research studies done\")\n",
    "plot1.set_ylabel(\"Research area\")\n",
    "\n",
    "# Set individual bar labels\n",
    "for i in plot1.patches:\n",
    "    # get_width pulls left or right; get_y pushes up or down\n",
    "    plot1.text(i.get_width()+10.0, i.get_y()+.38, str(i.get_width()))"
   ]
  },
  {
   "cell_type": "markdown",
   "metadata": {},
   "source": [
    "From the data shown, it seems that cellular metabolism has generated the most interest in recent years in the field of cancer research."
   ]
  },
  {
   "cell_type": "markdown",
   "metadata": {},
   "source": [
    "### 2. Research publication date"
   ]
  },
  {
   "cell_type": "markdown",
   "metadata": {},
   "source": [
    "Since the publication date column data, like the other columns, are objects, they need to be converted to datetime so that pandas can plot all data points in the chronological order."
   ]
  },
  {
   "cell_type": "code",
   "execution_count": 413,
   "metadata": {
    "scrolled": true
   },
   "outputs": [
    {
     "data": {
      "text/html": [
       "<div>\n",
       "<style scoped>\n",
       "    .dataframe tbody tr th:only-of-type {\n",
       "        vertical-align: middle;\n",
       "    }\n",
       "\n",
       "    .dataframe tbody tr th {\n",
       "        vertical-align: top;\n",
       "    }\n",
       "\n",
       "    .dataframe thead th {\n",
       "        text-align: right;\n",
       "    }\n",
       "</style>\n",
       "<table border=\"1\" class=\"dataframe\">\n",
       "  <thead>\n",
       "    <tr style=\"text-align: right;\">\n",
       "      <th></th>\n",
       "      <th>Title</th>\n",
       "      <th>Authors</th>\n",
       "      <th>Journal</th>\n",
       "      <th>Research area</th>\n",
       "      <th>Cell Line</th>\n",
       "      <th>Cell Type</th>\n",
       "      <th>Species</th>\n",
       "      <th>Analyzer</th>\n",
       "      <th>XF Assay</th>\n",
       "      <th>Seeding density</th>\n",
       "      <th>Publication year</th>\n",
       "    </tr>\n",
       "  </thead>\n",
       "  <tbody>\n",
       "    <tr>\n",
       "      <th>0</th>\n",
       "      <td>_-1-Antitrypsin (AAT)-modified donor cells sup...</td>\n",
       "      <td>Marcondes AM, Karoopongse E, Lesnikova M, Marg...</td>\n",
       "      <td>Blood</td>\n",
       "      <td>Immunology Research</td>\n",
       "      <td>T-cells</td>\n",
       "      <td>T-cells</td>\n",
       "      <td>Mouse</td>\n",
       "      <td>24</td>\n",
       "      <td>Cell Mitochondrial Stress Test</td>\n",
       "      <td>8.0x10^5 cells/well</td>\n",
       "      <td>2014</td>\n",
       "    </tr>\n",
       "    <tr>\n",
       "      <th>1</th>\n",
       "      <td>_-1-Antitrypsin (AAT)-modified donor cells sup...</td>\n",
       "      <td>Marcondes AM, Karoopongse E, Lesnikova M, Marg...</td>\n",
       "      <td>Blood</td>\n",
       "      <td>Immunology Research</td>\n",
       "      <td>Natural Killer (NK) cells</td>\n",
       "      <td>Immune Cells</td>\n",
       "      <td>Mouse</td>\n",
       "      <td>24</td>\n",
       "      <td>Cell Mitochondrial Stress Test</td>\n",
       "      <td>8.0x10^5 cells/well</td>\n",
       "      <td>2014</td>\n",
       "    </tr>\n",
       "    <tr>\n",
       "      <th>2</th>\n",
       "      <td>_-enolase regulates the malignant phenotype of...</td>\n",
       "      <td>J. Dai, Q. Zhou, J. Chen, M. L. Rexius-Hall, J...</td>\n",
       "      <td>Nat Commun</td>\n",
       "      <td>Cell Physiology Research</td>\n",
       "      <td>Pulmonary Artery Smooth Muscle Cells (PASMC)</td>\n",
       "      <td>Pulmonary Artery Cells</td>\n",
       "      <td>Human</td>\n",
       "      <td>24</td>\n",
       "      <td>Cell Mitochondrial Stress Test</td>\n",
       "      <td>3.0 x10^4 cells/well</td>\n",
       "      <td>2018</td>\n",
       "    </tr>\n",
       "    <tr>\n",
       "      <th>3</th>\n",
       "      <td>_-enolase regulates the malignant phenotype of...</td>\n",
       "      <td>J. Dai, Q. Zhou, J. Chen, M. L. Rexius-Hall, J...</td>\n",
       "      <td>Nat Commun</td>\n",
       "      <td>Cell Physiology Research</td>\n",
       "      <td>Pulmonary Artery Smooth Muscle Cells (PASMC)</td>\n",
       "      <td>Pulmonary Artery Cells</td>\n",
       "      <td>Human</td>\n",
       "      <td>24</td>\n",
       "      <td>Glycolysis Stress Test</td>\n",
       "      <td>3.0 x10^4 cells/well</td>\n",
       "      <td>2018</td>\n",
       "    </tr>\n",
       "    <tr>\n",
       "      <th>4</th>\n",
       "      <td>_-ketoglutarate orchestrates macrophage activa...</td>\n",
       "      <td>P. S. Liu, H. Wang, X. Li, T. Chao, T. Teav, S...</td>\n",
       "      <td>Nat Immunol</td>\n",
       "      <td>Immunology Research</td>\n",
       "      <td>Bone Marrow-Derived Macrophages (BMDM)</td>\n",
       "      <td>Immune Cells</td>\n",
       "      <td>Mouse</td>\n",
       "      <td>96</td>\n",
       "      <td>Cell Mitochondrial Stress Test</td>\n",
       "      <td>1.0 x10^5 cells/well</td>\n",
       "      <td>2017</td>\n",
       "    </tr>\n",
       "  </tbody>\n",
       "</table>\n",
       "</div>"
      ],
      "text/plain": [
       "                                               Title  \\\n",
       "0  _-1-Antitrypsin (AAT)-modified donor cells sup...   \n",
       "1  _-1-Antitrypsin (AAT)-modified donor cells sup...   \n",
       "2  _-enolase regulates the malignant phenotype of...   \n",
       "3  _-enolase regulates the malignant phenotype of...   \n",
       "4  _-ketoglutarate orchestrates macrophage activa...   \n",
       "\n",
       "                                             Authors      Journal  \\\n",
       "0  Marcondes AM, Karoopongse E, Lesnikova M, Marg...        Blood   \n",
       "1  Marcondes AM, Karoopongse E, Lesnikova M, Marg...        Blood   \n",
       "2  J. Dai, Q. Zhou, J. Chen, M. L. Rexius-Hall, J...   Nat Commun   \n",
       "3  J. Dai, Q. Zhou, J. Chen, M. L. Rexius-Hall, J...   Nat Commun   \n",
       "4  P. S. Liu, H. Wang, X. Li, T. Chao, T. Teav, S...  Nat Immunol   \n",
       "\n",
       "              Research area                                     Cell Line  \\\n",
       "0       Immunology Research                                       T-cells   \n",
       "1       Immunology Research                     Natural Killer (NK) cells   \n",
       "2  Cell Physiology Research  Pulmonary Artery Smooth Muscle Cells (PASMC)   \n",
       "3  Cell Physiology Research  Pulmonary Artery Smooth Muscle Cells (PASMC)   \n",
       "4       Immunology Research        Bone Marrow-Derived Macrophages (BMDM)   \n",
       "\n",
       "                Cell Type Species Analyzer                        XF Assay  \\\n",
       "0                 T-cells   Mouse       24  Cell Mitochondrial Stress Test   \n",
       "1            Immune Cells   Mouse       24  Cell Mitochondrial Stress Test   \n",
       "2  Pulmonary Artery Cells   Human       24  Cell Mitochondrial Stress Test   \n",
       "3  Pulmonary Artery Cells   Human       24          Glycolysis Stress Test   \n",
       "4            Immune Cells   Mouse       96  Cell Mitochondrial Stress Test   \n",
       "\n",
       "        Seeding density Publication year  \n",
       "0   8.0x10^5 cells/well             2014  \n",
       "1   8.0x10^5 cells/well             2014  \n",
       "2  3.0 x10^4 cells/well             2018  \n",
       "3  3.0 x10^4 cells/well             2018  \n",
       "4  1.0 x10^5 cells/well             2017  "
      ]
     },
     "execution_count": 413,
     "metadata": {},
     "output_type": "execute_result"
    }
   ],
   "source": [
    "# Format of the publication date data is 'Oct 1 2014 12:00 AM', slice based on space separation\n",
    "data['Publication date'] = data['Publication date'].astype(str)\n",
    "data['Publication year'] = data['Publication date'].str.split(' ', n=4, expand = True)[2]\n",
    "data = data.drop(columns='Publication date')\n",
    "data.head()"
   ]
  },
  {
   "cell_type": "code",
   "execution_count": 414,
   "metadata": {},
   "outputs": [
    {
     "name": "stdout",
     "output_type": "stream",
     "text": [
      "<class 'pandas.core.frame.DataFrame'>\n",
      "RangeIndex: 9083 entries, 0 to 9082\n",
      "Data columns (total 11 columns):\n",
      "Title               9083 non-null object\n",
      "Authors             9083 non-null object\n",
      "Journal             9083 non-null object\n",
      "Research area       8403 non-null object\n",
      "Cell Line           9083 non-null object\n",
      "Cell Type           9083 non-null object\n",
      "Species             9083 non-null object\n",
      "Analyzer            9083 non-null object\n",
      "XF Assay            9083 non-null object\n",
      "Seeding density     9083 non-null object\n",
      "Publication year    9083 non-null datetime64[ns]\n",
      "dtypes: datetime64[ns](1), object(10)\n",
      "memory usage: 780.6+ KB\n"
     ]
    },
    {
     "data": {
      "text/plain": [
       "Text(0, 0.5, 'Studies Published')"
      ]
     },
     "execution_count": 414,
     "metadata": {},
     "output_type": "execute_result"
    },
    {
     "data": {
      "image/png": "[encoded data removed]",
      "text/plain": [
       "<Figure size 720x576 with 1 Axes>"
      ]
     },
     "metadata": {
      "needs_background": "light"
     },
     "output_type": "display_data"
    }
   ],
   "source": [
    "# convert the 'Publication date' column to datetime format \n",
    "data['Publication year'] = pd.to_datetime(data['Publication year'], format='%Y') \n",
    "\n",
    "# Check the format of 'Date' column \n",
    "data.info() \n",
    "\n",
    "df_sorted_by_date = data.sort_values(by=['Publication year'])\n",
    "\n",
    "plot2 = df_sorted_by_date['Publication year'].value_counts().sort_index().plot(figsize=(10,8))\n",
    "\n",
    "# Add x- and y- axes labels\n",
    "plot2.set_xlabel(\"Year Published\")\n",
    "plot2.set_ylabel(\"Studies Published\")"
   ]
  },
  {
   "cell_type": "markdown",
   "metadata": {},
   "source": [
    "Paper published in each year will be combined."
   ]
  },
  {
   "cell_type": "markdown",
   "metadata": {},
   "source": [
    "### 3. Cell Type"
   ]
  },
  {
   "cell_type": "code",
   "execution_count": null,
   "metadata": {},
   "outputs": [],
   "source": [
    "# Look at top 20 most researched cell lines\n",
    "plot3 = data['Cell Type'].value_counts()[:20].plot(kind='barh', figsize=(10,8))\n",
    "plot3.invert_yaxis()\n",
    "\n",
    "# set individual bar labels using above list\n",
    "for i in plot3.patches:\n",
    "    # get_width pulls left or right; get_y pushes up or down\n",
    "    plot3.text(i.get_width()+5.0, i.get_y()+.38, str(i.get_width()))"
   ]
  },
  {
   "cell_type": "code",
   "execution_count": null,
   "metadata": {},
   "outputs": [],
   "source": [
    "# Generate word cloud for most researched cell lines\n",
    "text = data['Cell Type'].values\n",
    "wordcloud = WordCloud(\n",
    "    width = 3000,\n",
    "    height = 2000,\n",
    "    background_color = 'white',\n",
    "    stopwords = STOPWORDS).generate(str(text))\n",
    "fig = plt.figure(\n",
    "    figsize = (40, 30),\n",
    "    facecolor = 'k',\n",
    "    edgecolor = 'k')\n",
    "plt.imshow(wordcloud, interpolation = 'bilinear')\n",
    "plt.axis('off')\n",
    "plt.tight_layout(pad=0)\n",
    "plt.show()"
   ]
  },
  {
   "cell_type": "markdown",
   "metadata": {},
   "source": [
    "Future effort should include looking at how to generate a phrases cloud rather than a word cloud since phrases cloud would be more meaningful."
   ]
  },
  {
   "cell_type": "markdown",
   "metadata": {},
   "source": [
    "### 4. Metabolic assays"
   ]
  },
  {
   "cell_type": "markdown",
   "metadata": {},
   "source": [
    "Here we look at which of our competitor's metabolic assays are the most popular"
   ]
  },
  {
   "cell_type": "code",
   "execution_count": null,
   "metadata": {},
   "outputs": [],
   "source": [
    "plot4 = data['XF Assay'].value_counts().plot(kind='barh', figsize=(10,8))\n",
    "plot4.invert_yaxis()\n",
    "# create a list to collect the plt.patches data\n",
    "totals4 = []\n",
    "\n",
    "# find the values and append to list\n",
    "for i in plot1.patches:\n",
    "    totals4.append(i.get_width())\n",
    "\n",
    "# set individual bar lables using above list\n",
    "total4 = sum(totals4)\n",
    "\n",
    "# set individual bar lables using above list\n",
    "for i in plot4.patches:\n",
    "    # get_width pulls left or right; get_y pushes up or down\n",
    "    plot4.text(i.get_width()+10.0, i.get_y()+.38, str(i.get_width()))"
   ]
  },
  {
   "cell_type": "markdown",
   "metadata": {},
   "source": [
    "**Cell Mitochondrial Stress Test**: measures basal respiration, ATP-linked respiration, H+ (Proton) leak, maximal respiration, spare respiratory capacity, and non-mitochondrial respiration using modulators of cellular respiration.\n",
    "\n",
    "**Glycolysis Stress Test**: measures basal glycolysis and glycolysis capacity upon blockage of mitochondrial ATP production using respiratory modulators. Non-glycolytic acidification is assessed through glucose starvation.\n",
    "\n",
    "**Substrate Utilization**\n",
    "\n",
    "**Basal Metabolic Assay**\n",
    "\n",
    "**Fatty Acid Oxidation**\n",
    "\n",
    "**Mitochondrial Respiratory Complex Assay**\n",
    "\n",
    "**Glucose Utilization**\n",
    "\n",
    "**Switch Assay**\n",
    "\n",
    "**Mito Fuel Flex Test**\n",
    "\n",
    "**Cell Energy Phenotype Test**\n",
    "\n",
    "**Real-Time Activation**\n",
    "\n",
    "**Glutaminolysis**\n",
    "\n",
    "**Glycolytic Rate Assay**\n",
    "\n",
    "**MitoXpress Xtra Oxygen Consumption Assay**"
   ]
  },
  {
   "cell_type": "code",
   "execution_count": null,
   "metadata": {},
   "outputs": [],
   "source": []
  }
 ],
 "metadata": {
  "kernelspec": {
   "display_name": "Python 3",
   "language": "python",
   "name": "python3"
  },
  "language_info": {
   "codemirror_mode": {
    "name": "ipython",
    "version": 3
   },
   "file_extension": ".py",
   "mimetype": "text/x-python",
   "name": "python",
   "nbconvert_exporter": "python",
   "pygments_lexer": "ipython3",
   "version": "3.7.3"
  }
 },
 "nbformat": 4,
 "nbformat_minor": 2
}
