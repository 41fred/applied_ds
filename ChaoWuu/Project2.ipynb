{
 "cells": [
  {
   "cell_type": "markdown",
   "metadata": {
    "slideshow": {
     "slide_type": "subslide"
    }
   },
   "source": [
    "# Relations Between restaurants scores and boroughs, cuisine types in NYC\n",
    "\n",
    "### 1. Brief Introduction\n",
    "My dataset is from enigma, which is acquired from the unannounced inspections of restaurants conducted by New York City Health Department at least once a year. The inspectors check for compliance in food handling, food temperature, personal hygiene and vermin control. Each violation of a regulation gets a certain number of points. At the end of the inspection, the inspector totals the points, and this number is the restaurant's inspection score. The lower the score, the better the grade.\n",
    "\n",
    "In the dataset, the first few columns shows some basic information such as its camis ID(New York City-Wide Agency Management Information System (CAMIS) ID Number. This is a unique identifier for the entity (restaurant)), name, area located and so on. The rest columns contains information about the inspection date, violation of that restaurant, score and grade.\n",
    "\n",
    "\n",
    "The project is created to try to identify restaurants with good scores and try to find the relations between scores and borough or cuisine type."
   ]
  },
  {
   "cell_type": "code",
   "execution_count": 118,
   "metadata": {},
   "outputs": [],
   "source": [
    "import pandas as pd\n",
    "import seaborn as sns\n",
    "import numpy as np\n",
    "import matplotlib.pyplot as plt\n",
    "from matplotlib.pyplot import hist"
   ]
  },
  {
   "cell_type": "code",
   "execution_count": 374,
   "metadata": {},
   "outputs": [],
   "source": [
    "df = pd.read_csv('https://tufts.box.com/shared/static/bumca8ezkpf7epqr956wyeuiog5eejb2.csv')"
   ]
  },
  {
   "cell_type": "code",
   "execution_count": 375,
   "metadata": {},
   "outputs": [
    {
     "data": {
      "text/html": [
       "<div>\n",
       "<style scoped>\n",
       "    .dataframe tbody tr th:only-of-type {\n",
       "        vertical-align: middle;\n",
       "    }\n",
       "\n",
       "    .dataframe tbody tr th {\n",
       "        vertical-align: top;\n",
       "    }\n",
       "\n",
       "    .dataframe thead th {\n",
       "        text-align: right;\n",
       "    }\n",
       "</style>\n",
       "<table border=\"1\" class=\"dataframe\">\n",
       "  <thead>\n",
       "    <tr style=\"text-align: right;\">\n",
       "      <th></th>\n",
       "      <th>camis</th>\n",
       "      <th>dba</th>\n",
       "      <th>boro</th>\n",
       "      <th>building</th>\n",
       "      <th>street</th>\n",
       "      <th>zipcode</th>\n",
       "      <th>phone</th>\n",
       "      <th>cuisine_description</th>\n",
       "      <th>inspection_date</th>\n",
       "      <th>action</th>\n",
       "      <th>violation_code</th>\n",
       "      <th>violation_description</th>\n",
       "      <th>critical_flag</th>\n",
       "      <th>score</th>\n",
       "      <th>grade</th>\n",
       "      <th>grade_date</th>\n",
       "      <th>record_date</th>\n",
       "      <th>inspection_type</th>\n",
       "    </tr>\n",
       "  </thead>\n",
       "  <tbody>\n",
       "    <tr>\n",
       "      <th>0</th>\n",
       "      <td>41451985</td>\n",
       "      <td>BRANCACCIO'S FOOD SHOP</td>\n",
       "      <td>BROOKLYN</td>\n",
       "      <td>3011</td>\n",
       "      <td>FORT HAMILTON PARKWAY</td>\n",
       "      <td>11218.0</td>\n",
       "      <td>7184351997</td>\n",
       "      <td>Sandwiches</td>\n",
       "      <td>2017-03-02T00:00:00+00:00</td>\n",
       "      <td>Violations were cited in the following area(s).</td>\n",
       "      <td>08A</td>\n",
       "      <td>Facility not vermin proof. Harborage or condit...</td>\n",
       "      <td>Not Critical</td>\n",
       "      <td>26.0</td>\n",
       "      <td>NaN</td>\n",
       "      <td>NaN</td>\n",
       "      <td>2018-10-09T06:00:44+00:00</td>\n",
       "      <td>Cycle Inspection / Initial Inspection</td>\n",
       "    </tr>\n",
       "    <tr>\n",
       "      <th>1</th>\n",
       "      <td>50017896</td>\n",
       "      <td>SANGRIA</td>\n",
       "      <td>QUEENS</td>\n",
       "      <td>2902</td>\n",
       "      <td>FRANCIS LEWIS BLVD</td>\n",
       "      <td>11358.0</td>\n",
       "      <td>7183582727</td>\n",
       "      <td>Spanish</td>\n",
       "      <td>2016-12-23T00:00:00+00:00</td>\n",
       "      <td>Violations were cited in the following area(s).</td>\n",
       "      <td>02H</td>\n",
       "      <td>Food not cooled by an approved method whereby ...</td>\n",
       "      <td>Critical</td>\n",
       "      <td>12.0</td>\n",
       "      <td>A</td>\n",
       "      <td>2016-12-23T00:00:00+00:00</td>\n",
       "      <td>2018-10-09T06:00:44+00:00</td>\n",
       "      <td>Cycle Inspection / Initial Inspection</td>\n",
       "    </tr>\n",
       "    <tr>\n",
       "      <th>2</th>\n",
       "      <td>50002037</td>\n",
       "      <td>CHABBA BBQ/FAMILY GRILL &amp; CUISINE</td>\n",
       "      <td>BROOKLYN</td>\n",
       "      <td>786</td>\n",
       "      <td>CONEY ISLAND AVENUE</td>\n",
       "      <td>11218.0</td>\n",
       "      <td>9178938844</td>\n",
       "      <td>Indian</td>\n",
       "      <td>2016-01-04T00:00:00+00:00</td>\n",
       "      <td>Violations were cited in the following area(s).</td>\n",
       "      <td>04L</td>\n",
       "      <td>Evidence of mice or live mice present in facil...</td>\n",
       "      <td>Critical</td>\n",
       "      <td>33.0</td>\n",
       "      <td>NaN</td>\n",
       "      <td>NaN</td>\n",
       "      <td>2018-10-09T06:00:44+00:00</td>\n",
       "      <td>Cycle Inspection / Initial Inspection</td>\n",
       "    </tr>\n",
       "    <tr>\n",
       "      <th>3</th>\n",
       "      <td>41172677</td>\n",
       "      <td>GREENLEAF'S/BANANAS</td>\n",
       "      <td>STATEN ISLAND</td>\n",
       "      <td>2655</td>\n",
       "      <td>RICHMOND AVENUE</td>\n",
       "      <td>10314.0</td>\n",
       "      <td>7183707345</td>\n",
       "      <td>Sandwiches/Salads/Mixed Buffet</td>\n",
       "      <td>2015-06-22T00:00:00+00:00</td>\n",
       "      <td>Violations were cited in the following area(s).</td>\n",
       "      <td>08A</td>\n",
       "      <td>Facility not vermin proof. Harborage or condit...</td>\n",
       "      <td>Not Critical</td>\n",
       "      <td>18.0</td>\n",
       "      <td>NaN</td>\n",
       "      <td>NaN</td>\n",
       "      <td>2018-10-09T06:00:44+00:00</td>\n",
       "      <td>Cycle Inspection / Initial Inspection</td>\n",
       "    </tr>\n",
       "    <tr>\n",
       "      <th>4</th>\n",
       "      <td>41583191</td>\n",
       "      <td>QUEZADA RESTAURANT</td>\n",
       "      <td>BROOKLYN</td>\n",
       "      <td>1212</td>\n",
       "      <td>FLATBUSH AVENUE</td>\n",
       "      <td>11226.0</td>\n",
       "      <td>7182820622</td>\n",
       "      <td>Latin (Cuban, Dominican, Puerto Rican, South &amp;...</td>\n",
       "      <td>2018-01-23T00:00:00+00:00</td>\n",
       "      <td>Establishment Closed by DOHMH.  Violations wer...</td>\n",
       "      <td>02G</td>\n",
       "      <td>Cold food item held above 41Âº F (smoked fish ...</td>\n",
       "      <td>Critical</td>\n",
       "      <td>30.0</td>\n",
       "      <td>NaN</td>\n",
       "      <td>NaN</td>\n",
       "      <td>2018-10-09T06:00:44+00:00</td>\n",
       "      <td>Cycle Inspection / Re-inspection</td>\n",
       "    </tr>\n",
       "  </tbody>\n",
       "</table>\n",
       "</div>"
      ],
      "text/plain": [
       "      camis                                dba           boro building  \\\n",
       "0  41451985             BRANCACCIO'S FOOD SHOP       BROOKLYN     3011   \n",
       "1  50017896                            SANGRIA         QUEENS     2902   \n",
       "2  50002037  CHABBA BBQ/FAMILY GRILL & CUISINE       BROOKLYN      786   \n",
       "3  41172677                GREENLEAF'S/BANANAS  STATEN ISLAND     2655   \n",
       "4  41583191                 QUEZADA RESTAURANT       BROOKLYN     1212   \n",
       "\n",
       "                  street  zipcode       phone  \\\n",
       "0  FORT HAMILTON PARKWAY  11218.0  7184351997   \n",
       "1     FRANCIS LEWIS BLVD  11358.0  7183582727   \n",
       "2    CONEY ISLAND AVENUE  11218.0  9178938844   \n",
       "3        RICHMOND AVENUE  10314.0  7183707345   \n",
       "4        FLATBUSH AVENUE  11226.0  7182820622   \n",
       "\n",
       "                                 cuisine_description  \\\n",
       "0                                         Sandwiches   \n",
       "1                                            Spanish   \n",
       "2                                             Indian   \n",
       "3                     Sandwiches/Salads/Mixed Buffet   \n",
       "4  Latin (Cuban, Dominican, Puerto Rican, South &...   \n",
       "\n",
       "             inspection_date  \\\n",
       "0  2017-03-02T00:00:00+00:00   \n",
       "1  2016-12-23T00:00:00+00:00   \n",
       "2  2016-01-04T00:00:00+00:00   \n",
       "3  2015-06-22T00:00:00+00:00   \n",
       "4  2018-01-23T00:00:00+00:00   \n",
       "\n",
       "                                              action violation_code  \\\n",
       "0    Violations were cited in the following area(s).            08A   \n",
       "1    Violations were cited in the following area(s).            02H   \n",
       "2    Violations were cited in the following area(s).            04L   \n",
       "3    Violations were cited in the following area(s).            08A   \n",
       "4  Establishment Closed by DOHMH.  Violations wer...            02G   \n",
       "\n",
       "                               violation_description critical_flag  score  \\\n",
       "0  Facility not vermin proof. Harborage or condit...  Not Critical   26.0   \n",
       "1  Food not cooled by an approved method whereby ...      Critical   12.0   \n",
       "2  Evidence of mice or live mice present in facil...      Critical   33.0   \n",
       "3  Facility not vermin proof. Harborage or condit...  Not Critical   18.0   \n",
       "4  Cold food item held above 41Âº F (smoked fish ...      Critical   30.0   \n",
       "\n",
       "  grade                 grade_date                record_date  \\\n",
       "0   NaN                        NaN  2018-10-09T06:00:44+00:00   \n",
       "1     A  2016-12-23T00:00:00+00:00  2018-10-09T06:00:44+00:00   \n",
       "2   NaN                        NaN  2018-10-09T06:00:44+00:00   \n",
       "3   NaN                        NaN  2018-10-09T06:00:44+00:00   \n",
       "4   NaN                        NaN  2018-10-09T06:00:44+00:00   \n",
       "\n",
       "                         inspection_type  \n",
       "0  Cycle Inspection / Initial Inspection  \n",
       "1  Cycle Inspection / Initial Inspection  \n",
       "2  Cycle Inspection / Initial Inspection  \n",
       "3  Cycle Inspection / Initial Inspection  \n",
       "4       Cycle Inspection / Re-inspection  "
      ]
     },
     "execution_count": 375,
     "metadata": {},
     "output_type": "execute_result"
    }
   ],
   "source": [
    "df.head()"
   ]
  },
  {
   "cell_type": "markdown",
   "metadata": {},
   "source": [
    "### 2. Data clean\n",
    "Clean the data, drop columns that will not be used, remove rows of scores that don't have values. In my project, I will not use the total grade to evaluate the restaurant because in this dataset, most restauratns only have scores, instead of grades.\n",
    "\n",
    "Cleaning data would be helpful when picking the data and to avoid mistakes.\n",
    "\n",
    "Drop the 'NAN' values in 'score' column"
   ]
  },
  {
   "cell_type": "code",
   "execution_count": 378,
   "metadata": {},
   "outputs": [
    {
     "data": {
      "text/html": [
       "<div>\n",
       "<style scoped>\n",
       "    .dataframe tbody tr th:only-of-type {\n",
       "        vertical-align: middle;\n",
       "    }\n",
       "\n",
       "    .dataframe tbody tr th {\n",
       "        vertical-align: top;\n",
       "    }\n",
       "\n",
       "    .dataframe thead th {\n",
       "        text-align: right;\n",
       "    }\n",
       "</style>\n",
       "<table border=\"1\" class=\"dataframe\">\n",
       "  <thead>\n",
       "    <tr style=\"text-align: right;\">\n",
       "      <th></th>\n",
       "      <th>dba</th>\n",
       "      <th>boro</th>\n",
       "      <th>cuisine_description</th>\n",
       "      <th>violation_description</th>\n",
       "      <th>score</th>\n",
       "    </tr>\n",
       "  </thead>\n",
       "  <tbody>\n",
       "    <tr>\n",
       "      <th>0</th>\n",
       "      <td>BRANCACCIO'S FOOD SHOP</td>\n",
       "      <td>BROOKLYN</td>\n",
       "      <td>Sandwiches</td>\n",
       "      <td>Facility not vermin proof. Harborage or condit...</td>\n",
       "      <td>26.0</td>\n",
       "    </tr>\n",
       "    <tr>\n",
       "      <th>1</th>\n",
       "      <td>SANGRIA</td>\n",
       "      <td>QUEENS</td>\n",
       "      <td>Spanish</td>\n",
       "      <td>Food not cooled by an approved method whereby ...</td>\n",
       "      <td>12.0</td>\n",
       "    </tr>\n",
       "    <tr>\n",
       "      <th>2</th>\n",
       "      <td>CHABBA BBQ/FAMILY GRILL &amp; CUISINE</td>\n",
       "      <td>BROOKLYN</td>\n",
       "      <td>Indian</td>\n",
       "      <td>Evidence of mice or live mice present in facil...</td>\n",
       "      <td>33.0</td>\n",
       "    </tr>\n",
       "    <tr>\n",
       "      <th>3</th>\n",
       "      <td>GREENLEAF'S/BANANAS</td>\n",
       "      <td>STATEN ISLAND</td>\n",
       "      <td>Sandwiches/Salads/Mixed Buffet</td>\n",
       "      <td>Facility not vermin proof. Harborage or condit...</td>\n",
       "      <td>18.0</td>\n",
       "    </tr>\n",
       "    <tr>\n",
       "      <th>4</th>\n",
       "      <td>QUEZADA RESTAURANT</td>\n",
       "      <td>BROOKLYN</td>\n",
       "      <td>Latin (Cuban, Dominican, Puerto Rican, South &amp;...</td>\n",
       "      <td>Cold food item held above 41Âº F (smoked fish ...</td>\n",
       "      <td>30.0</td>\n",
       "    </tr>\n",
       "  </tbody>\n",
       "</table>\n",
       "</div>"
      ],
      "text/plain": [
       "                                 dba           boro  \\\n",
       "0             BRANCACCIO'S FOOD SHOP       BROOKLYN   \n",
       "1                            SANGRIA         QUEENS   \n",
       "2  CHABBA BBQ/FAMILY GRILL & CUISINE       BROOKLYN   \n",
       "3                GREENLEAF'S/BANANAS  STATEN ISLAND   \n",
       "4                 QUEZADA RESTAURANT       BROOKLYN   \n",
       "\n",
       "                                 cuisine_description  \\\n",
       "0                                         Sandwiches   \n",
       "1                                            Spanish   \n",
       "2                                             Indian   \n",
       "3                     Sandwiches/Salads/Mixed Buffet   \n",
       "4  Latin (Cuban, Dominican, Puerto Rican, South &...   \n",
       "\n",
       "                               violation_description  score  \n",
       "0  Facility not vermin proof. Harborage or condit...   26.0  \n",
       "1  Food not cooled by an approved method whereby ...   12.0  \n",
       "2  Evidence of mice or live mice present in facil...   33.0  \n",
       "3  Facility not vermin proof. Harborage or condit...   18.0  \n",
       "4  Cold food item held above 41Âº F (smoked fish ...   30.0  "
      ]
     },
     "execution_count": 378,
     "metadata": {},
     "output_type": "execute_result"
    }
   ],
   "source": [
    "df_clean = df.drop(['camis', 'building', 'street', 'zipcode', 'phone', 'inspection_date', 'action', 'violation_code', 'critical_flag', 'grade', 'grade_date', 'record_date', 'inspection_type'], axis = 1)\n",
    "df_val = df_clean.loc[df_clean['score'].dropna().index]\n",
    "df_val.head()"
   ]
  },
  {
   "cell_type": "markdown",
   "metadata": {},
   "source": [
    "### 3. Find the score range and prepare for plot\n",
    "It is necessary to know the score range in the dataset in order to make a well-shaped plot.\n",
    "\n",
    "Since the maximum score is 156 and the minimun score is -1, I set three standards for the score, which are less than 50, between 50 and 100, more than 100. As the smaller the score is, the better the restaurants are, I plot the number of restaurants in each cuisine type to compare."
   ]
  },
  {
   "cell_type": "code",
   "execution_count": 379,
   "metadata": {},
   "outputs": [
    {
     "name": "stdout",
     "output_type": "stream",
     "text": [
      "biggest score = 156.0 , smallest score = -1.0\n"
     ]
    }
   ],
   "source": [
    "print('biggest score =', df_val['score'].max(), ', smallest score =', df_val['score'].min())"
   ]
  },
  {
   "cell_type": "code",
   "execution_count": 381,
   "metadata": {},
   "outputs": [
    {
     "data": {
      "text/plain": [
       "array(['BROOKLYN', 'QUEENS', 'STATEN ISLAND', 'MANHATTAN', 'BRONX',\n",
       "       'Missing'], dtype=object)"
      ]
     },
     "execution_count": 381,
     "metadata": {},
     "output_type": "execute_result"
    }
   ],
   "source": [
    "#List all boroughs and pass them to array \"boro_array\"\n",
    "boro_array = df_val['boro'].unique()\n",
    "boro_array"
   ]
  },
  {
   "cell_type": "code",
   "execution_count": 383,
   "metadata": {},
   "outputs": [
    {
     "name": "stdout",
     "output_type": "stream",
     "text": [
      "Number of restaurants in every borough:\n",
      "Brooklyn: 91166 \n",
      "Queens: 81072 \n",
      "Staten 12598 \n",
      "Manhattan 142536 \n",
      "Bronx 32489\n"
     ]
    }
   ],
   "source": [
    "#get the dataframe of each borough individually\n",
    "df_brooklyn = df_val[df_val['boro'] == 'BROOKLYN']\n",
    "df_queens = df_val[df_val['boro'] == 'QUEENS']\n",
    "df_sta_island = df_val[df_val['boro'] == 'STATEN ISLAND']\n",
    "df_manhattan = df_val[df_val['boro'] == 'MANHATTAN']\n",
    "df_bronx = df_val[df_val['boro'] == 'BRONX']\n",
    "print('Number of restaurants in every borough:\\nBrooklyn:', len(df_brooklyn),\n",
    "     '\\nQueens:', len(df_queens),\n",
    "     '\\nStaten', len(df_sta_island),\n",
    "     '\\nManhattan', len(df_manhattan),\n",
    "     '\\nBronx', len(df_bronx))"
   ]
  },
  {
   "cell_type": "markdown",
   "metadata": {},
   "source": [
    "### 4. Plot the scores related to boroughs"
   ]
  },
  {
   "cell_type": "code",
   "execution_count": 192,
   "metadata": {},
   "outputs": [
    {
     "data": {
      "image/png": "[encoded data removed]",
      "text/plain": [
       "<matplotlib.figure.Figure at 0x1a199c04a8>"
      ]
     },
     "metadata": {},
     "output_type": "display_data"
    },
    {
     "name": "stdout",
     "output_type": "stream",
     "text": [
      "None\n",
      "AxesSubplot(0.125,0.125;0.775x0.755)\n"
     ]
    },
    {
     "data": {
      "image/png": "[encoded data removed]",
      "text/plain": [
       "<matplotlib.figure.Figure at 0x1a199c11d0>"
      ]
     },
     "metadata": {},
     "output_type": "display_data"
    }
   ],
   "source": [
    "#barchart\n",
    "number_restaurants = [len(df_brooklyn), len(df_queens), len(df_sta_island), len(df_manhattan), len(df_bronx)]\n",
    "y_pos = [0,1.1,2.3,3.5,4.6]\n",
    "plt.bar(y_pos, number_restaurants, align='center')\n",
    "plt.xticks(y_pos, boros)\n",
    "plt.title('Number of restaurants in NYC')\n",
    "plt.rcParams['figure.figsize'] = (8, 5)\n",
    "print(plt.show())\n",
    "\n",
    "#piechart\n",
    "df_pie = pd.DataFrame({'number of restaurants': [len(df_brooklyn), len(df_queens), len(df_sta_island), len(df_manhattan), len(df_bronx)]},\n",
    "                 index=['Brooklyn', 'Queens', 'Staten Island', 'Manhattan', 'Bronx'])\n",
    "pie_chart = df_pie.plot.pie(y = 'number of restaurants', figsize = (7,7), legend = False, autopct='%1.0f%%', fontsize = 15)\n",
    "print(pie_chart)"
   ]
  },
  {
   "cell_type": "code",
   "execution_count": 384,
   "metadata": {},
   "outputs": [
    {
     "name": "stdout",
     "output_type": "stream",
     "text": [
      "Scores in Brooklyn, Queens, Staten Island, Manhattan, Bronx:\n",
      "Scores <= 50:      [87114, 78125, 12212, 137324, 31422]\n",
      "50 < Scores < 100: [3854, 2813, 379, 5044, 1028]\n",
      "Scores >= 100:     [198, 134, 7, 168, 39]\n"
     ]
    }
   ],
   "source": [
    "#get the array of score under 50\n",
    "score_under50 = [len(df_brooklyn[df_brooklyn['score'] <= 50]), len(df_queens[df_queens['score'] <= 50]),\n",
    "                len(df_sta_island[df_sta_island['score'] <= 50]), len(df_manhattan[df_manhattan['score'] <= 50]),\n",
    "                len(df_bronx[df_bronx['score'] <= 50])]\n",
    "print('Scores in Brooklyn, Queens, Staten Island, Manhattan, Bronx:\\nScores <= 50:     ', score_under50)\n",
    "\n",
    "#get the array of score between 50 and 100\n",
    "score_50_to_100 = [len(df_brooklyn[(df_brooklyn['score'] > 50) & (df_brooklyn['score'] < 100)]),\n",
    "                   len(df_queens[(df_queens['score'] > 50) & (df_queens['score'] < 100)]),\n",
    "                   len(df_sta_island[(df_sta_island['score'] > 50) & (df_sta_island['score'] < 100)]),\n",
    "                   len(df_manhattan[(df_manhattan['score'] > 50) & (df_manhattan['score'] < 100)]),\n",
    "                   len(df_bronx[(df_bronx['score'] > 50) & (df_bronx['score'] < 100)])]\n",
    "print('50 < Scores < 100:', score_50_to_100)\n",
    "\n",
    "#get the array of score over 100\n",
    "score_over100 = [len(df_brooklyn[df_brooklyn['score'] >= 100]), len(df_queens[df_queens['score'] >= 100]),\n",
    "                 len(df_sta_island[df_sta_island['score'] >= 100]), len(df_manhattan[df_manhattan['score'] >= 100]),\n",
    "                 len(df_bronx[df_bronx['score'] >= 100])]\n",
    "print('Scores >= 100:    ', socre_over100)"
   ]
  },
  {
   "cell_type": "code",
   "execution_count": 385,
   "metadata": {},
   "outputs": [
    {
     "data": {
      "image/png": "[encoded data removed]",
      "text/plain": [
       "<matplotlib.figure.Figure at 0x1a1bb3b2e8>"
      ]
     },
     "metadata": {},
     "output_type": "display_data"
    },
    {
     "data": {
      "text/plain": [
       "<matplotlib.axes._subplots.AxesSubplot at 0x1a1bb67c50>"
      ]
     },
     "execution_count": 385,
     "metadata": {},
     "output_type": "execute_result"
    },
    {
     "data": {
      "image/png": "[encoded data removed]",
      "text/plain": [
       "<matplotlib.figure.Figure at 0x1a19170dd8>"
      ]
     },
     "metadata": {},
     "output_type": "display_data"
    }
   ],
   "source": [
    "df_sco = pd.DataFrame({'scores <= 50': score_under50, '50 < scores < 100': score_50_to_100, 'scores >= 100' : score_over100})\n",
    "df_sco['Boroughs'] = boro_array[0:5]\n",
    "ax = df_sco.plot(x = 'Boroughs', y = 'scores <= 50', kind = 'bar', color = 'C1')\n",
    "df_sco.plot(x = 'Boroughs', y = '50 < scores < 100', kind=\"bar\", ax=ax, color=\"C2\")\n",
    "df_sco.plot(x = 'Boroughs', y= 'scores >= 100', kind=\"bar\", ax=ax, color=\"C3\")\n",
    "plt.show()\n",
    "\n",
    "df_under25 = pd.DataFrame({'Scores': score_under50},\n",
    "                          index = boro_array[0:5])\n",
    "df_under25.plot.pie(y='Scores', figsize=(7, 7), legend = False,autopct='%1.0f%%', title = 'Percentage of scores under 50'  )\n"
   ]
  },
  {
   "cell_type": "markdown",
   "metadata": {},
   "source": [
    "### 5. Statistics related to cuisine types"
   ]
  },
  {
   "cell_type": "code",
   "execution_count": 386,
   "metadata": {},
   "outputs": [
    {
     "data": {
      "text/plain": [
       "85"
      ]
     },
     "execution_count": 386,
     "metadata": {},
     "output_type": "execute_result"
    }
   ],
   "source": [
    "#numebr of different cuisine types in the dataset\n",
    "len(df_val['cuisine_description'].value_counts())"
   ]
  },
  {
   "cell_type": "code",
   "execution_count": 388,
   "metadata": {},
   "outputs": [
    {
     "data": {
      "text/plain": [
       "American                                                            78594\n",
       "Chinese                                                             38202\n",
       "CafÃ©/Coffee/Tea                                                    16218\n",
       "Latin (Cuban, Dominican, Puerto Rican, South & Central American)    16101\n",
       "Pizza                                                               15985\n",
       "Italian                                                             14945\n",
       "Mexican                                                             14447\n",
       "Japanese                                                            12875\n",
       "Caribbean                                                           12570\n",
       "Bakery                                                              11084\n",
       "Name: cuisine_description, dtype: int64"
      ]
     },
     "execution_count": 388,
     "metadata": {},
     "output_type": "execute_result"
    }
   ],
   "source": [
    "#ranked by restaurants counts\n",
    "df_val['cuisine_description'].value_counts().head(10)"
   ]
  },
  {
   "cell_type": "code",
   "execution_count": 389,
   "metadata": {},
   "outputs": [],
   "source": [
    "cuisine_list = df_val['cuisine_description'].value_counts().head(10).index.tolist()\n",
    "cuisine_mean_score = [] #creat a list to save mean score for each cuisine\n",
    "cuisine_median_score = [] #save median score for each cuisine\n",
    "for i in range(10):\n",
    "    cuisine_mean_score.append(df_val[df_val['cuisine_description'] == cuisine_list[i]].score.mean())\n",
    "    cuisine_median_score.append(df_val[df_val['cuisine_description'] == cuisine_list[i]].score.median())"
   ]
  },
  {
   "cell_type": "code",
   "execution_count": 390,
   "metadata": {},
   "outputs": [
    {
     "name": "stdout",
     "output_type": "stream",
     "text": [
      "mean score:\n",
      " [18.24477695498384, 20.88613161614575, 17.025280552472562, 20.99428606918825, 18.823459493274946, 19.132619605219137, 20.242264830068525, 19.833398058252428, 21.79244232299125, 19.731865752435944] \n",
      "median score:\n",
      " [13.0, 17.0, 12.0, 18.0, 13.0, 14.0, 17.0, 16.0, 18.0, 15.0]\n"
     ]
    }
   ],
   "source": [
    "print('mean score:\\n', cuisine_mean_score, '\\nmedian score:\\n', cuisine_median_score)"
   ]
  },
  {
   "cell_type": "code",
   "execution_count": 391,
   "metadata": {},
   "outputs": [
    {
     "data": {
      "image/png": "[encoded data removed]",
      "text/plain": [
       "<matplotlib.figure.Figure at 0x1a1918ff60>"
      ]
     },
     "metadata": {},
     "output_type": "display_data"
    },
    {
     "name": "stdout",
     "output_type": "stream",
     "text": [
      "None\n"
     ]
    }
   ],
   "source": [
    "y_pos = range(10)\n",
    "cuisine_list[3] = 'Latin'\n",
    "plt.bar(y_pos, cuisine_mean_score, align='center')\n",
    "plt.xticks(y_pos, cuisine_list, fontsize = 10, rotation = 30)\n",
    "plt.title('Mean score of different cuisine')\n",
    "plt.rcParams['figure.figsize'] = (10, 10)\n",
    "print(plt.show())"
   ]
  },
  {
   "cell_type": "code",
   "execution_count": 392,
   "metadata": {},
   "outputs": [
    {
     "data": {
      "image/png": "[encoded data removed]",
      "text/plain": [
       "<matplotlib.figure.Figure at 0x1a191db2b0>"
      ]
     },
     "metadata": {},
     "output_type": "display_data"
    },
    {
     "name": "stdout",
     "output_type": "stream",
     "text": [
      "None\n"
     ]
    }
   ],
   "source": [
    "y_pos = range(10)\n",
    "plt.bar(y_pos, cuisine_median_score, align='center')\n",
    "plt.xticks(y_pos, cuisine_list, fontsize = 10, rotation = 30)\n",
    "plt.title('Median score of different cuisine')\n",
    "plt.rcParams['figure.figsize'] = (10, 10)\n",
    "print(plt.show())"
   ]
  }
 ],
 "metadata": {
  "kernelspec": {
   "display_name": "Python 3",
   "language": "python",
   "name": "python3"
  },
  "language_info": {
   "codemirror_mode": {
    "name": "ipython",
    "version": 3
   },
   "file_extension": ".py",
   "mimetype": "text/x-python",
   "name": "python",
   "nbconvert_exporter": "python",
   "pygments_lexer": "ipython3",
   "version": "3.6.4"
  }
 },
 "nbformat": 4,
 "nbformat_minor": 2
}
