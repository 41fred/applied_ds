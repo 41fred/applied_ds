{
 "cells": [
  {
   "cell_type": "markdown",
   "metadata": {},
   "source": [
    "# Bigfoot Data Analysis Project\n",
    "The following report is for EM212.  It uses data taken from the Bigfoot Field Researchers Organization.  The data includes all reports submitted to the BFRO reporting site.  The followning analysis will include frequency of reports by state, year and a brief analysis of the text reports."
   ]
  },
  {
   "cell_type": "code",
   "execution_count": 2,
   "metadata": {},
   "outputs": [],
   "source": [
    "import pandas as pd\n",
    "import seaborn as sns\n",
    "import matplotlib.pyplot as plt\n",
    "import matplotlib.mlab as mlab\n",
    "from scipy import stats\n",
    "from datetime import datetime\n",
    "import numpy as np\n",
    "\n",
    "bigfoot = pd.read_csv('./bfro_reports.csv')"
   ]
  },
  {
   "cell_type": "markdown",
   "metadata": {},
   "source": [
    "I could not get the data to load properly from its URL because it is password-gated.  "
   ]
  },
  {
   "cell_type": "markdown",
   "metadata": {},
   "source": [
    "# Frequency of reports by state:\n",
    "plots number of reports by state for the top 10 states"
   ]
  },
  {
   "cell_type": "code",
   "execution_count": 8,
   "metadata": {},
   "outputs": [
    {
     "data": {
      "text/plain": [
       "<matplotlib.axes._subplots.AxesSubplot at 0x1188be400>"
      ]
     },
     "execution_count": 8,
     "metadata": {},
     "output_type": "execute_result"
    },
    {
     "data": {
      "image/png": "[encoded data removed]",
      "text/plain": [
       "<Figure size 432x288 with 1 Axes>"
      ]
     },
     "metadata": {
      "needs_background": "light"
     },
     "output_type": "display_data"
    }
   ],
   "source": [
    "states = pd.DataFrame(bigfoot)\n",
    "states = states.state.value_counts()\n",
    "states_topten = states.head(10)\n",
    "states_topten.plot(kind=\"bar\", title=\"States with most Bigfoot Sightings\")"
   ]
  },
  {
   "cell_type": "markdown",
   "metadata": {},
   "source": [
    "## Cleaning data - removing rows with no date value:\n",
    "Creates a new dataframe, df, that has removed all rows with null date values"
   ]
  },
  {
   "cell_type": "code",
   "execution_count": 11,
   "metadata": {},
   "outputs": [],
   "source": [
    "df = pd.DataFrame(bigfoot)\n",
    "df['date'].replace('', np.nan, inplace=True)\n",
    "df.dropna(subset=['date'], inplace=True)"
   ]
  },
  {
   "cell_type": "markdown",
   "metadata": {},
   "source": [
    "Creates a new column in the dataframe with the date values converted to datetime"
   ]
  },
  {
   "cell_type": "code",
   "execution_count": 12,
   "metadata": {},
   "outputs": [],
   "source": [
    "df['date_parsed'] = pd.to_datetime(df['date'], format = \"%Y/%m/%d\")"
   ]
  },
  {
   "cell_type": "code",
   "execution_count": 14,
   "metadata": {},
   "outputs": [],
   "source": [
    "counts_by_year = df['date_parsed'].dt.year.value_counts()"
   ]
  },
  {
   "cell_type": "markdown",
   "metadata": {},
   "source": [
    "# Frequency of reports by year\n",
    "Takes the number of reports for each year and plots frequency on a graph"
   ]
  },
  {
   "cell_type": "code",
   "execution_count": 273,
   "metadata": {},
   "outputs": [
    {
     "data": {
      "text/plain": [
       "[<matplotlib.lines.Line2D at 0x11c556d68>]"
      ]
     },
     "execution_count": 273,
     "metadata": {},
     "output_type": "execute_result"
    },
    {
     "data": {
      "image/png": "[encoded data removed]",
      "text/plain": [
       "<Figure size 432x288 with 1 Axes>"
      ]
     },
     "metadata": {
      "needs_background": "light"
     },
     "output_type": "display_data"
    }
   ],
   "source": [
    "plt.plot(counts_by_year, \"k+\")"
   ]
  },
  {
   "cell_type": "markdown",
   "metadata": {},
   "source": [
    "The years 2004-2006 have the highest frequency of reports."
   ]
  },
  {
   "cell_type": "markdown",
   "metadata": {},
   "source": [
    "## Text analyisis of reports\n",
    "The following code parses the each individual word of all of the text reports. The most common words are shown below."
   ]
  },
  {
   "cell_type": "code",
   "execution_count": 70,
   "metadata": {},
   "outputs": [
    {
     "data": {
      "text/plain": [
       "the      77445\n",
       "i        46968\n",
       "and      43359\n",
       "a        34349\n",
       "to       33723\n",
       "was      32803\n",
       "it       26662\n",
       "of       25929\n",
       "in       20719\n",
       "we       17597\n",
       "my       16938\n",
       "that     15234\n",
       "on       12002\n",
       "had      10374\n",
       "at       10186\n",
       "were      8963\n",
       "about     8889\n",
       "as        8690\n",
       "this      8519\n",
       "but       7471\n",
       "dtype: int64"
      ]
     },
     "execution_count": 70,
     "metadata": {},
     "output_type": "execute_result"
    }
   ],
   "source": [
    "df['observed'].isnull().value_counts()\n",
    "df['observed'].replace('', np.nan, inplace=True)\n",
    "df.dropna(subset=['observed'], inplace=True)\n",
    "lower_case = df['observed'].str.lower()\n",
    "word_counts = lower_case.str.split(expand=True).stack().value_counts()\n",
    "word_counts.head(20)"
   ]
  },
  {
   "cell_type": "markdown",
   "metadata": {},
   "source": [
    "This did not really yeild any interesting results, but it was a useful exercise to figure out how to parse the text."
   ]
  },
  {
   "cell_type": "markdown",
   "metadata": {},
   "source": [
    "# Discussion\n",
    "First of all, I did not end up getting to merge in an additional dataset. I did not have time to think through what dataset would be good to merge, and I did not find a suitable dataset online. I wanted to do something with alcohol consumption or unemployment, but I could not find a dataset that made sense.  \n",
    "\n",
    "## Data Cleaning\n",
    "I am proud of what I accomplished in under a week in terms of cleaning my data to make it more useful for analysis.  I learned how to parse the dates.  I also learned how to parse out the text.  Considering what we have learned, it would have been impossible for me to get to all of the analysis in my project proposal, but I have learned a few useful skills that I can use to continue this work in the future."
   ]
  }
 ],
 "metadata": {
  "kernelspec": {
   "display_name": "Python 3",
   "language": "python",
   "name": "python3"
  },
  "language_info": {
   "codemirror_mode": {
    "name": "ipython",
    "version": 3
   },
   "file_extension": ".py",
   "mimetype": "text/x-python",
   "name": "python",
   "nbconvert_exporter": "python",
   "pygments_lexer": "ipython3",
   "version": "3.7.1"
  }
 },
 "nbformat": 4,
 "nbformat_minor": 2
}
